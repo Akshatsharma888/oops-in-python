{
 "cells": [
  {
   "cell_type": "markdown",
   "metadata": {},
   "source": [
    "# oops in python"
   ]
  },
  {
   "cell_type": "markdown",
   "metadata": {},
   "source": [
    "'''ths is the representation of how we define the classes and objects.''"
   ]
  },
  {
   "cell_type": "code",
   "execution_count": 2,
   "metadata": {},
   "outputs": [
    {
     "name": "stdout",
     "output_type": "stream",
     "text": [
      "['akshat', 8889281830, 'student']\n"
     ]
    }
   ],
   "source": [
    "'''this is class.'''\n",
    "class info:\n",
    "    name = 'akshat'\n",
    "    no = 8889281830\n",
    "    occupation = 'student'\n",
    "'''---------------------------------------------------'''\n",
    "\n",
    "'''this is object'''\n",
    "a = info()\n",
    "'''---------------------------------------------------'''\n",
    "\n",
    "a.name\n",
    "a.no\n",
    "a.occupation\n",
    "f = [a.name,a.no,a.occupation]\n",
    "print(f)"
   ]
  },
  {
   "cell_type": "markdown",
   "metadata": {},
   "source": [
    "'''use of changing the classes names with respect to object."
   ]
  },
  {
   "cell_type": "code",
   "execution_count": 1,
   "metadata": {},
   "outputs": [
    {
     "name": "stdout",
     "output_type": "stream",
     "text": [
      "['sharma', 567902, 'student']\n"
     ]
    }
   ],
   "source": [
    "'''this is class.'''\n",
    "class info:\n",
    "    name = 'akshat'\n",
    "    no = 8889281830\n",
    "    occupation = 'student'\n",
    "'''---------------------------------------------------'''\n",
    "\n",
    "'''this is object'''\n",
    "a = info()\n",
    "'''---------------------------------------------------'''\n",
    "\n",
    "\n",
    "'''by this we change the names of any class objects.'''\n",
    "a.name = 'sharma'\n",
    "a.no = 567902\n",
    "a.occupation\n",
    "f = [a.name,a.no,a.occupation]\n",
    "print(f)"
   ]
  },
  {
   "cell_type": "markdown",
   "metadata": {},
   "source": [
    "'''use of self function with classes and objects.'''"
   ]
  },
  {
   "cell_type": "code",
   "execution_count": 5,
   "metadata": {},
   "outputs": [
    {
     "name": "stdout",
     "output_type": "stream",
     "text": [
      "['akshat', 'AI Engineer']\n",
      "my name is akshat and i am a AI Engineer\n"
     ]
    }
   ],
   "source": [
    "class ab:\n",
    "    name = 'akshat'\n",
    "    occu = 'AI Engineer'\n",
    "    def ifo(self):\n",
    "        print(f'my name is {self.name} and i am a {self.occu}')\n",
    "\n",
    "\n",
    "s = ab()\n",
    "print([s.name,s.occu])\n",
    "s.ifo()"
   ]
  },
  {
   "cell_type": "markdown",
   "metadata": {},
   "source": [
    "# constructors in python"
   ]
  },
  {
   "cell_type": "code",
   "execution_count": 12,
   "metadata": {},
   "outputs": [
    {
     "name": "stdout",
     "output_type": "stream",
     "text": [
      "hey i am a coder\n",
      "hey my name is akshat my age is 19\n"
     ]
    }
   ],
   "source": [
    "\n",
    "class person:\n",
    "    def __init__(self,o,n):\n",
    "        print('hey i am a coder')\n",
    "        self.name = o\n",
    "        self.age = n\n",
    "    def ibc(self):\n",
    "        print(f'hey my name is {self.name} my age is {self.age}')\n",
    "\n",
    "\n",
    "\n",
    "c = person('akshat',19)\n",
    "c.ibc()"
   ]
  },
  {
   "cell_type": "markdown",
   "metadata": {},
   "source": [
    "# Python Decorators\n",
    "Python decorators are a powerful and versatile tool that allow you to modify the behavior of functions and methods. They are a way to extend the functionality of a function or method without modifying its source code.\n",
    "\n",
    "A decorator is a function that takes another function as an argument and returns a new function that modifies the behavior of the original function. The new function is often referred to as a \"decorated\" function. The basic syntax for using a decorator is the following:"
   ]
  },
  {
   "cell_type": "code",
   "execution_count": 14,
   "metadata": {},
   "outputs": [
    {
     "name": "stdout",
     "output_type": "stream",
     "text": [
      "greetings\n",
      "thanks for using this function\n",
      "good morning\n"
     ]
    }
   ],
   "source": [
    "def greet(fx):\n",
    "    def mfx():\n",
    "        print('good morning')\n",
    "    fx()\n",
    "    print('thanks for using this function')\n",
    "    return mfx\n",
    "\n",
    "'''representation of decorators.'''\n",
    "@greet\n",
    "def hello():\n",
    "    print('greetings')\n",
    "hello()\n",
    "\n"
   ]
  },
  {
   "cell_type": "markdown",
   "metadata": {},
   "source": [
    "# Getters\n",
    "Getters in Python are methods that are used to access the values of an object's properties. They are used to return the value of a specific property, and are typically defined using the @property decorator."
   ]
  },
  {
   "cell_type": "markdown",
   "metadata": {},
   "source": [
    "# Setters\n",
    "It is important to note that the getters do not take any parameters and we cannot set the value through getter method.For that we need setter method which can be added by decorating method with @property_name.setter"
   ]
  },
  {
   "cell_type": "code",
   "execution_count": 6,
   "metadata": {},
   "outputs": [
    {
     "name": "stdout",
     "output_type": "stream",
     "text": [
      "65.0\n",
      "the value is 6.5\n"
     ]
    }
   ],
   "source": [
    "class myclass:\n",
    "    def __init__(self,value):\n",
    "        self._val = value\n",
    "    def person(self):\n",
    "        print(f'the value is {self._val}')\n",
    "\n",
    "\n",
    "    '''this line of code is a getter'''\n",
    "    @property\n",
    "    def ten_value(self):\n",
    "        return 10*self._val\n",
    "    \n",
    "    '''this line of code is a setter.'''\n",
    "    @ten_value.setter\n",
    "    def ten_value(self,new_1):\n",
    "        self._val = new_1/10\n",
    "\n",
    "a = myclass(10)\n",
    "a.ten_value = 65\n",
    "print(a.ten_value)\n",
    "a.person()\n",
    "\n",
    "\n"
   ]
  },
  {
   "cell_type": "markdown",
   "metadata": {},
   "source": [
    "# Inheritance in python\n",
    "When a class derives from another class. The child class will inherit all the public and protected properties and methods from the parent class. In addition, it can have its own properties and methods,this is called as inheritance."
   ]
  },
  {
   "cell_type": "code",
   "execution_count": 7,
   "metadata": {},
   "outputs": [
    {
     "name": "stdout",
     "output_type": "stream",
     "text": [
      "my name is akshat and my id is 3\n",
      "this is default language which was used by akshat and with id as 9\n"
     ]
    }
   ],
   "source": [
    "'''by default first we use single inheritance.'''\n",
    "\n",
    "class employee:\n",
    "    def __init__(self,name,emp_id):\n",
    "        self.nu = name\n",
    "        self.un = emp_id\n",
    "    def indeed(self):\n",
    "        print(f'my name is {self.nu} and my id is {self.un}')\n",
    "\n",
    "'''use of inheritance'''\n",
    "class programmer(employee):\n",
    "    def showlanguage(self):\n",
    "        print(f'this is default language which was used by {self.nu} and with id as {self.un}')\n",
    "\n",
    "a = employee('akshat',3)\n",
    "a.indeed()\n",
    "a1 = programmer('akshat',9)\n",
    "a1.showlanguage()\n"
   ]
  },
  {
   "cell_type": "markdown",
   "metadata": {},
   "source": [
    "Types of inheritance:\n",
    "* Single inheritance\n",
    "* Multiple inheritance\n",
    "* Multilevel inheritance\n",
    "* Hierarchical Inheritance\n",
    "* Hybrid Inheritance"
   ]
  },
  {
   "cell_type": "markdown",
   "metadata": {},
   "source": [
    "# Single Inheritance in Python\n",
    "Single inheritance is a type of inheritance where a class inherits properties and behaviors from a single parent class. This is the simplest and most common form of inheritance."
   ]
  },
  {
   "cell_type": "code",
   "execution_count": null,
   "metadata": {},
   "outputs": [],
   "source": [
    "class animal:\n",
    "    def __init__(self,name,species,color):\n",
    "        self.name = name\n",
    "        self.species = species\n",
    "        self.color = color\n",
    "    def info(self):\n",
    "        return f'this is details of cat name {self.name}'\n",
    "\n",
    "class cat(animal):\n",
    "    def __init__(self,name,breed):\n",
    "        animal.__init__(self,name,species='cat',color='black')\n",
    "        self.breed = breed\n",
    "    def sound(self):\n",
    "        return 'meow'\n",
    "\n",
    "\n",
    "a = cat('synthia','persian')\n",
    "A = a.sound()\n",
    "print(A)\n",
    "a2 = animal('softy', 'red','red')\n",
    "a2.info()\n",
    "\n"
   ]
  },
  {
   "cell_type": "markdown",
   "metadata": {},
   "source": [
    "Python\n",
    "# Multiple inheritance\n",
    "it is a powerful feature in object-oriented programming that allows a class to inherit attributes and methods from multiple parent classes. This can be useful in situations where a class needs to inherit functionality from multiple sources."
   ]
  },
  {
   "cell_type": "code",
   "execution_count": 8,
   "metadata": {},
   "outputs": [
    {
     "name": "stdout",
     "output_type": "stream",
     "text": [
      "meow\n"
     ]
    },
    {
     "data": {
      "text/plain": [
       "'this is details of cat name softy'"
      ]
     },
     "execution_count": 8,
     "metadata": {},
     "output_type": "execute_result"
    }
   ],
   "source": [
    "class animal:\n",
    "    def __init__(self,name,species,color):\n",
    "        self.name = name\n",
    "        self.species = species\n",
    "        self.color = color\n",
    "    def info(self):\n",
    "        return f'this is details of cat name {self.name}'\n",
    "\n",
    "class cat(animal):\n",
    "    def __init__(self,name,breed):\n",
    "        animal.__init__(self,name,species='cat',color='black')\n",
    "        self.breed = breed\n",
    "    def sound(self):\n",
    "        return 'meow'\n",
    "\n",
    "\n",
    "a = cat('synthia','persian')\n",
    "A = a.sound()\n",
    "print(A)\n",
    "a2 = animal('softy', 'red','red')\n",
    "a2.info()\n",
    "\n"
   ]
  },
  {
   "cell_type": "markdown",
   "metadata": {},
   "source": [
    "# Multilevel Inheritance in Python\n",
    "Multilevel inheritance is a type of inheritance in object-oriented programming where a derived class inherits from another derived class. This type of inheritance allows you to build a hierarchy of classes where one class builds upon another, leading to a more specialized class.\n",
    "\n",
    "In Python, multilevel inheritance is achieved by using the class hierarchy. The syntax for multilevel inheritance is quite simple and follows the same syntax as single inheritance."
   ]
  },
  {
   "cell_type": "code",
   "execution_count": 9,
   "metadata": {},
   "outputs": [
    {
     "name": "stdout",
     "output_type": "stream",
     "text": [
      "flag is from bharat, its specification belongs to tricolor\n",
      "bharat\n",
      "tricolor\n"
     ]
    }
   ],
   "source": [
    "class flag:\n",
    "    def __init__(self, name):\n",
    "        self.name = name\n",
    "\n",
    "    def name(self):\n",
    "        print(f'flag name is {self.name}')\n",
    "\n",
    "\n",
    "class color:\n",
    "    def __init__(self, color):\n",
    "        self.color = color\n",
    "\n",
    "    def info(self):\n",
    "        print(f'flag color is of {self.color}')\n",
    "\n",
    "\n",
    "class flagcolor(flag, color):\n",
    "    def __init__(self, name, color):\n",
    "        self.name = name\n",
    "        self.color = color\n",
    "        print(\n",
    "            f'flag is from {self.name}, its specification belongs to {self.color}')\n",
    "\n",
    "\n",
    "x = flagcolor('bharat', 'tricolor')\n",
    "print(x.name)\n",
    "print(x.color)\n"
   ]
  },
  {
   "cell_type": "code",
   "execution_count": 4,
   "metadata": {},
   "outputs": [
    {
     "name": "stdout",
     "output_type": "stream",
     "text": [
      "9\n"
     ]
    }
   ],
   "source": [
    "class sum:\n",
    "    def __init__(self,a,b):\n",
    "        d = a+b\n",
    "        self.val1 = a\n",
    "        self.val2 = b\n",
    "        self.val3 = a+b\n",
    "\n",
    "x = sum(4,5)\n",
    "print(x.val3)"
   ]
  },
  {
   "cell_type": "code",
   "execution_count": 2,
   "metadata": {},
   "outputs": [
    {
     "name": "stdout",
     "output_type": "stream",
     "text": [
      "akshat\n"
     ]
    }
   ],
   "source": [
    "class name:\n",
    "    def __init__(self,name):\n",
    "        self.n = name\n",
    "a = name('akshat')\n",
    "print(a.n)"
   ]
  },
  {
   "cell_type": "markdown",
   "metadata": {},
   "source": [
    "# * Access Specifiers/Modifiers\n",
    "Access specifiers or access modifiers in python programming are used to limit the access of class variables and class methods outside of class while implementing the concepts of inheritance.\n",
    "\n",
    "Let us see the each one of access specifiers in detail:\n",
    "\n",
    "Types of access specifiers\n",
    "* Public access modifier\n",
    "* Private access modifier\n",
    "* Protected access modifier"
   ]
  },
  {
   "cell_type": "code",
   "execution_count": 6,
   "metadata": {},
   "outputs": [
    {
     "name": "stdout",
     "output_type": "stream",
     "text": [
      "akshat\n",
      "['_emp__n', '__module__', '__init__', '__dict__', '__weakref__', '__doc__', '__new__', '__repr__', '__hash__', '__str__', '__getattribute__', '__setattr__', '__delattr__', '__lt__', '__le__', '__eq__', '__ne__', '__gt__', '__ge__', '__reduce_ex__', '__reduce__', '__subclasshook__', '__init_subclass__', '__format__', '__sizeof__', '__dir__', '__class__']\n"
     ]
    }
   ],
   "source": [
    "'''if we use double underscore it resembles private access modifiers\n",
    "in this case we use name mangling.'''\n",
    "\n",
    "\n",
    "class emp:\n",
    "    def __init__(self, name):\n",
    "        self.__n = name\n",
    "\n",
    "\n",
    "'''as it is the private access modifier so it cannot be accessed like this\n",
    "  --- print(a.__n)'''\n",
    "\n",
    "'''---------------------------------'''\n",
    "'''this is the correct way to accsess the private modifier\n",
    "   (this technique is also known as name mangling in python.)'''\n",
    "a = emp('akshat')\n",
    "print(a._emp__n)\n",
    "\n",
    "\n",
    "'''this will provide what are the various usernames to access an private modifier.'''\n",
    "print(a.__dir__())\n"
   ]
  },
  {
   "cell_type": "markdown",
   "metadata": {},
   "source": [
    "# Static methods in Python \n",
    "methods that belong to a class rather than an instance of the class. They are defined using the @staticmethod decorator and do not have access to the instance of the class (i.e. self). They are called on the class itself, not on an instance of the class. Static methods are often used to create utility functions that don't need access to instance data."
   ]
  },
  {
   "cell_type": "code",
   "execution_count": 4,
   "metadata": {},
   "outputs": [
    {
     "name": "stdout",
     "output_type": "stream",
     "text": [
      "5\n",
      "11\n",
      "10\n"
     ]
    }
   ],
   "source": [
    "#65\n",
    "class math:\n",
    "    def __init__(self,num):\n",
    "        self.num = num\n",
    "    def autoadd(self,n):\n",
    "        self.num = self.num+n\n",
    "    @staticmethod\n",
    "    def add(a,b):\n",
    "        return a+b\n",
    "\n",
    "x = math(5)\n",
    "print(x.num)\n",
    "x.autoadd(6)\n",
    "print(x.num)\n",
    "y = math.add(5,5)\n",
    "print(y)\n"
   ]
  },
  {
   "cell_type": "markdown",
   "metadata": {},
   "source": [
    "# Instance vs class variables\n",
    "In Python, variables can be defined at the class level or at the instance level. Understanding the difference between these types of variables is crucial for writing efficient and maintainable code.\n",
    "\n",
    "# Class Variables\n",
    "Class variables are defined at the class level and are shared among all instances of the class. They are defined outside of any method and are usually used to store information that is common to all instances of the class. For example, a class variable can be used to store the number of instances of a class that have been created.\n",
    "\n",
    "# Instance Variables\n",
    "Instance variables are defined at the instance level and are unique to each instance of the class. They are defined inside the init method and are usually used to store information that is specific to each instance of the class. For example, an instance variable can be used to store the name of an employee in a class that represents an employee."
   ]
  },
  {
   "cell_type": "code",
   "execution_count": 17,
   "metadata": {},
   "outputs": [
    {
     "name": "stdout",
     "output_type": "stream",
     "text": [
      "the employee with  id 1 his name is akshat from apple and his raise amount is 0.3\n",
      "the employee with  id 2 his name is disha from Google and his raise amount is 0.3\n"
     ]
    }
   ],
   "source": [
    "#66\n",
    "class employee:\n",
    "    '''these are the class variables'''\n",
    "    company_name = 'Google'\n",
    "    emp_no = 0\n",
    "    '''----------------------------------------'''\n",
    "    \n",
    "    def __init__(self,name):\n",
    "        self.name = name\n",
    "        '''this is the instance variable'''\n",
    "        self.raise_amount = 0.3\n",
    "        '''-----------------------------'''\n",
    "        employee.emp_no +=1\n",
    "    def emp_e(self):\n",
    "        print(f'the employee with  id {self.emp_no} his name is {self.name} from {self.company_name} and his raise amount is {self.raise_amount}')\n",
    "\n",
    "emp = employee('akshat')\n",
    "emp.company_name = 'apple'\n",
    "emp.emp_e()\n",
    "emp1 = employee('disha')\n",
    "emp1.emp_e()"
   ]
  },
  {
   "cell_type": "markdown",
   "metadata": {},
   "source": [
    "# Python Class Methods\n",
    "Python Class Methods: An Introduction\n",
    "In Python, classes are a way to define custom data types that can store data and define functions that can manipulate that data. One type of function that can be defined within a class is called a \"method.\" In this blog post, we will explore what Python class methods are, why they are useful, and how to use them.\n",
    "\n",
    "What are Python Class Methods?\n",
    "A class method is a type of method that is bound to the class and not the instance of the class. In other words, it operates on the class as a whole, rather than on a specific instance of the class. Class methods are defined using the \"@classmethod\" decorator, followed by a function definition. The first argument of the function is always \"cls,\" which represents the class itself.\n",
    "\n",
    "Why Use Python Class Methods?\n",
    "Class methods are useful in several situations. For example, you might want to create a factory method that creates instances of your class in a specific way. You could define a class method that creates the instance and returns it to the caller. Another common use case is to provide alternative constructors for your class. This can be useful if you want to create instances of your class in multiple ways, but still have a consistent interface for doing so.\n",
    "\n",
    "How to Use Python Class Methods\n",
    "To define a class method, you simply use the \"@classmethod\" decorator before the method definition. The first argument of the method should always be \"cls,\" which represents the class itself. Here is an example of how to define a class method:\n",
    "\n",
    "class ExampleClass:\n",
    "    @classmethod\n",
    "    def factory_method(cls, argument1, argument2):\n",
    "        return cls(argument1, argument2)\n",
    "\n",
    "\n",
    "In this example, the \"factory_method\" is a class method that takes two arguments, \"argument1\" and \"argument2.\" It creates a new instance of the class \"ExampleClass\" using the \"cls\" keyword, and returns the new instance to the caller.\n",
    "\n",
    "It's important to note that class methods cannot modify the class in any way. If you need to modify the class, you should use a class level variable instead.\n",
    "\n",
    "Conclusion\n",
    "Python class methods are a powerful tool for defining functions that operate on the class as a whole, rather than on a specific instance of the class. They are useful for creating factory methods, alternative constructors, and other types of methods that operate at the class level. With the knowledge of how to define and use class methods, you can start writing more complex and organized code in Python."
   ]
  },
  {
   "cell_type": "code",
   "execution_count": 3,
   "metadata": {},
   "outputs": [
    {
     "name": "stdout",
     "output_type": "stream",
     "text": [
      "student name is - akshat and his clg name is : SATI\n",
      "student name is - akshat and his clg name is : iit\n"
     ]
    }
   ],
   "source": [
    "#69\n",
    "class student_info:\n",
    "    clg_name = 'SATI'\n",
    "    def show(akshat):\n",
    "        print(f'student name is - {akshat.name} and his clg name is : {student_info.clg_name}')\n",
    "    \n",
    "    @classmethod\n",
    "    def method(clss,newclg):\n",
    "        clss.clg_name = newclg\n",
    "\n",
    "\n",
    "x = student_info()\n",
    "x.name = 'akshat'\n",
    "x.show()\n",
    "x.method('iit')\n",
    "x.show()"
   ]
  },
  {
   "cell_type": "markdown",
   "metadata": {},
   "source": [
    "# Class Methods as Alternative Constructors\n",
    "In object-oriented programming, the term \"constructor\" refers to a special type of method that is automatically executed when an object is created from a class. The purpose of a constructor is to initialize the object's attributes, allowing the object to be fully functional and ready to use.\n",
    "\n",
    "However, there are times when you may want to create an object in a different way, or with different initial values, than what is provided by the default constructor. This is where class methods can be used as alternative constructors.\n",
    "\n",
    "A class method belongs to the class rather than to an instance of the class. One common use case for class methods as alternative constructors is when you want to create an object from data that is stored in a different format, such as a string or a dictionary. For example, consider a class named \"Person\" that has two attributes: \"name\" and \"age\". The default constructor for the class might look like this:\n",
    "\n",
    "class Person:\n",
    "    def __init__(self, name, age):\n",
    "        self.name = name\n",
    "        self.age = age\n",
    "\n",
    "\n",
    "But what if you want to create a Person object from a string that contains the person's name and age, separated by a comma? You can define a class method named \"from_string\" to do this:\n",
    "\n",
    "class Person:\n",
    "    def __init__(self, name, age):\n",
    "        self.name = name\n",
    "        self.age = age\n",
    "    @classmethod\n",
    "    def from_string(cls, string):\n",
    "        name, age = string.split(',')\n",
    "        return cls(name, int(age))\n",
    "\n",
    "\n",
    "Now you can create a Person object from a string like this:\n",
    "\n",
    "person = Person.from_string(\"John Doe, 30\")\n",
    "\n",
    "\n",
    "Another common use case for class methods as alternative constructors is when you want to create an object with a different set of default values than what is provided by the default constructor. For example, consider a class named \"Rectangle\" that has two attributes: \"width\" and \"height\". The default constructor for the class might look like this:\n",
    "\n",
    "class Rectangle:\n",
    "    def __init__(self, width, height):\n",
    "        self.width = width\n",
    "        self.height = height\n",
    "\n",
    "\n",
    "But what if you want to create a Rectangle object with a default width of 10 and a default height of 5? You can define a class method named \"square\" to do this:\n",
    "\n",
    "class Rectangle:\n",
    "  def __init__(self, width, height):\n",
    "    self.width = width\n",
    "    self.height = height\n",
    "  @classmethod\n",
    "  def square(cls, size):\n",
    "    return cls(size, size)\n",
    "\n",
    "\n",
    "Now you can create a square rectangle like this:\n",
    "\n",
    "rectangle = Rectangle.square(10)"
   ]
  },
  {
   "cell_type": "code",
   "execution_count": 17,
   "metadata": {},
   "outputs": [
    {
     "name": "stdout",
     "output_type": "stream",
     "text": [
      "MLscipy\n",
      "011\n",
      "authur\n",
      "11\n"
     ]
    }
   ],
   "source": [
    "#70\n",
    "class subject:\n",
    "    def __init__(self,book,book_id):\n",
    "        self.book = book\n",
    "        self.book_id = book_id\n",
    "    @classmethod\n",
    "    def modify(delta,string):\n",
    "        return delta(string.split('-')[0],int(string.split('-')[1]))\n",
    "\n",
    "x = subject('MLscipy','011')\n",
    "print(x.book)\n",
    "print(x.book_id)\n",
    "\n",
    "\n",
    "string = 'authur-011'\n",
    "x = subject.modify(string)\n",
    "print(x.book)\n",
    "print(x.book_id)\n"
   ]
  },
  {
   "cell_type": "markdown",
   "metadata": {},
   "source": [
    "# dir(), __dict__ and help() methods in python\n",
    "We must look into dir(), __dict__() and help() attribute/methods in python. They make it easy for us to understand how classes resolve various functions and executes code. In Python, there are three built-in functions that are commonly used to get information about objects: dir(), dict, and help(). Let's take a look at each of them:\n",
    "\n",
    "The dir() method\n",
    "dir(): The dir() function returns a list of all the attributes and methods (including dunder methods) available for an object. It is a useful tool for discovering what you can do with an object. Example:\n",
    "\n",
    ">>> x = [1, 2, 3]\n",
    ">>> dir(x)\n",
    "['__add__', '__class__', '__contains__', '__delattr__', '__delitem__', '__dir__', '__doc__', '__eq__', '__format__', '__ge__', '__getattribute__', '__getitem__', '__gt__', '__hash__', '__iadd__', '__imul__', '__init__', '__init_subclass__', '__iter__', '__le__', '__len__', '__lt__', '__mul__', '__ne__', '__new__', '__reduce__', '__reduce_ex__', '__repr__', '__reversed__', '__rmul__', '__setattr__', '__setitem__', '__sizeof__', '__str__', '__subclasshook__', 'append', 'clear', 'copy', 'count', 'extend', 'index', 'insert', 'pop', 'remove', 'reverse', 'sort']\n",
    "\n",
    "\n",
    "The __dict__ attribute\n",
    "__dict__: The __dict__ attribute returns a dictionary representation of an object's attributes. It is a useful tool for introspection. Example:\n",
    "\n",
    ">>> class Person:\n",
    "...     def __init__(self, name, age):\n",
    "...         self.name = name\n",
    "...         self.age = age\n",
    "...\n",
    ">>> p = Person(\"John\", 30)\n",
    ">>> p.__dict__\n",
    "\n",
    "\n",
    "Output\n",
    "{'name': 'John', 'age': 30}\n",
    "\n",
    "\n",
    "The help() mehthod\n",
    "help(): The help() function is used to get help documentation for an object, including a description of its attributes and methods. Example:\n",
    "\n",
    "\n",
    "In conclusion, dir(), dict, and help() are useful built-in functions in Python that can be used to get information about objects. They are valuable tools for introspection and discovery."
   ]
  },
  {
   "cell_type": "code",
   "execution_count": 6,
   "metadata": {},
   "outputs": [
    {
     "name": "stdout",
     "output_type": "stream",
     "text": [
      "<method-wrapper '__add__' of list object at 0x00000267FDFC7FC0>\n",
      "['__add__', '__class__', '__class_getitem__', '__contains__', '__delattr__', '__dir__', '__doc__', '__eq__', '__format__', '__ge__', '__getattribute__', '__getitem__', '__getnewargs__', '__gt__', '__hash__', '__init__', '__init_subclass__', '__iter__', '__le__', '__len__', '__lt__', '__mul__', '__ne__', '__new__', '__reduce__', '__reduce_ex__', '__repr__', '__rmul__', '__setattr__', '__sizeof__', '__str__', '__subclasshook__', 'count', 'index']\n"
     ]
    }
   ],
   "source": [
    "#71\n",
    "y = [1,2,3]\n",
    "#print(dir(y))\n",
    "print(y.__add__)\n",
    "\n",
    "'''#these are the methods for list\n",
    "['__add__', '__class__', '__class_getitem__', '__contains__', '__delattr__', '__delitem__', '__dir__',\n",
    "'__doc__', '__eq__',\n",
    "'__format__', '__ge__', '__getattribute__', '__getitem__', '__gt__', '__hash__',\n",
    "'__iadd__', '__imul__', '__init__', '__init_subclass__', '__iter__', '__le__', '__len__', \n",
    "'__lt__', '__mul__', '__ne__', '__new__', '__reduce__', '__reduce_ex__', '__repr__', '__reversed__',\n",
    "'__rmul__', '__setattr__', '__setitem__', '__sizeof__', '__str__', '__subclasshook__', 'append', 'clear',\n",
    "'copy', 'count', 'extend', 'index', 'insert', 'pop', 'remove', 'reverse', 'sort']\n",
    "'''\n",
    "\n",
    "x = (1,2,3,'a')\n",
    "print(dir(x))\n",
    "\n",
    "'''#these are the methods for tuple.\n",
    "['__add__', '__class__', '__class_getitem__', '__contains__', '__delattr__', '__dir__',\n",
    "'__doc__', '__eq__', '__format__', '__ge__', '__getattribute__', '__getitem__', '__getnewargs__', \n",
    "'__gt__', '__hash__', '__init__', '__init_subclass__', '__iter__', '__le__', '__len__', '__lt__', \n",
    "'__mul__', '__ne__', '__new__', '__reduce__', '__reduce_ex__', '__repr__', '__rmul__', '__setattr__', \n",
    "'__sizeof__', '__str__', '__subclasshook__', 'count', 'index']'''"
   ]
  },
  {
   "cell_type": "code",
   "execution_count": 7,
   "metadata": {},
   "outputs": [
    {
     "name": "stdout",
     "output_type": "stream",
     "text": [
      "{'name': 'akshat', 'age': 19, 'branch': 'AIADS'}\n"
     ]
    }
   ],
   "source": [
    "class student:\n",
    "    def __init__(self,name,age,branch):\n",
    "        self.name = name\n",
    "        self.age = age\n",
    "        self.branch = branch\n",
    "\n",
    "p = student('akshat',19,'AIADS')\n",
    "print(p.__dict__)"
   ]
  },
  {
   "cell_type": "markdown",
   "metadata": {},
   "source": [
    "# The help() method\n",
    "help(): The help() function is used to get help documentation for an object, including a description of its attributes and methods. Example:\n",
    "\n",
    ">>> help(str)\n",
    "Help on class str in module builtins:\n",
    "class str(object)\n",
    " |  str(object='') -> str\n",
    " |  str(bytes_or_buffer[, encoding[, errors]]) -> str\n",
    " |\n",
    " |  Create a new string object from the given object. If encoding or\n",
    " |  errors is specified, then the object must expose a data buffer\n",
    " |  that will be decoded using the given encoding and error handler.\n",
    " |  Otherwise, returns the result of object.__str__() (if defined)\n",
    " |  or repr(object).\n",
    " |  encoding defaults to sys.getdefaultencoding().\n",
    " |  errors defaults to 'strict'.\n"
   ]
  },
  {
   "cell_type": "code",
   "execution_count": 8,
   "metadata": {},
   "outputs": [
    {
     "name": "stdout",
     "output_type": "stream",
     "text": [
      "{'name': 'akshat', 'age': 19, 'branch': 'AIADS'}\n",
      "Help on class student in module __main__:\n",
      "\n",
      "class student(builtins.object)\n",
      " |  student(name, age, branch)\n",
      " |  \n",
      " |  Methods defined here:\n",
      " |  \n",
      " |  __init__(self, name, age, branch)\n",
      " |      Initialize self.  See help(type(self)) for accurate signature.\n",
      " |  \n",
      " |  ----------------------------------------------------------------------\n",
      " |  Data descriptors defined here:\n",
      " |  \n",
      " |  __dict__\n",
      " |      dictionary for instance variables (if defined)\n",
      " |  \n",
      " |  __weakref__\n",
      " |      list of weak references to the object (if defined)\n",
      "\n",
      "None\n"
     ]
    }
   ],
   "source": [
    "class student:\n",
    "    def __init__(self,name,age,branch):\n",
    "        self.name = name\n",
    "        self.age = age\n",
    "        self.branch = branch\n",
    "\n",
    "p = student('akshat',19,'AIADS')\n",
    "print(p.__dict__)\n",
    "\n",
    "print(help(student))"
   ]
  },
  {
   "cell_type": "markdown",
   "metadata": {},
   "source": [
    "# Super keyword in Python\n",
    "The super() keyword in Python is used to refer to the parent class. It is especially useful when a class inherits from multiple parent classes and you want to call a method from one of the parent classes.\n",
    "\n",
    "When a class inherits from a parent class, it can override or extend the methods defined in the parent class. However, sometimes you might want to use the parent class method in the child class. This is where the super() keyword comes in handy."
   ]
  },
  {
   "cell_type": "code",
   "execution_count": 16,
   "metadata": {},
   "outputs": [
    {
     "name": "stdout",
     "output_type": "stream",
     "text": [
      "i am the child class\n",
      "hii my self ak\n",
      "i am offspring of super class named as parentclass\n",
      "hii my self ak\n"
     ]
    }
   ],
   "source": [
    "class parentclass:\n",
    "    def parent_cl(self):\n",
    "        print(f'hii my self ak')\n",
    "class child(parentclass):\n",
    "    def _child(self):\n",
    "        print('i am the child class')\n",
    "        super().parent_cl()\n",
    "    def _off_child(self):\n",
    "        print('i am offspring of super class named as parentclass')\n",
    "        super().parent_cl()\n",
    "\n",
    "obj = child()\n",
    "obj._child()\n",
    "obj._off_child()"
   ]
  },
  {
   "cell_type": "code",
   "execution_count": 17,
   "metadata": {},
   "outputs": [
    {
     "name": "stdout",
     "output_type": "stream",
     "text": [
      "akshat\n",
      "19\n",
      "python\n"
     ]
    }
   ],
   "source": [
    "#72\n",
    "class employee:\n",
    "    def __init__(self,name,age):\n",
    "        self.name = name\n",
    "        self.age = age\n",
    "class programmer(employee):\n",
    "    def __init__(self,name,age,lang):\n",
    "        self.lang = lang\n",
    "        super().__init__(name,age)\n",
    "\n",
    "v = programmer('akshat',19,'python')\n",
    "print(v.name)\n",
    "print(v.age)\n",
    "print(v.lang)"
   ]
  },
  {
   "cell_type": "code",
   "execution_count": 23,
   "metadata": {},
   "outputs": [
    {
     "name": "stdout",
     "output_type": "stream",
     "text": [
      "akshat\n",
      "6\n"
     ]
    }
   ],
   "source": [
    "#73\n",
    "class length:\n",
    "    name = 'akshat'\n",
    "    \n",
    "    def __len__(self):\n",
    "        i = 0\n",
    "        for c in self.name:\n",
    "            i = i + 1\n",
    "        return i\n",
    "\n",
    "l = length()\n",
    "print(l.name)  # This prints the 'name' attribute of the 'l' object.\n",
    "print(len(l))  # This calls the '__len__' method and prints the length of the 'name' attribute.\n"
   ]
  },
  {
   "cell_type": "markdown",
   "metadata": {},
   "source": [
    "# Magic/Dunder Methods in Python\n",
    "These are special methods that you can define in your classes, and when invoked, they give you a powerful way to manipulate objects and their behaviour.\n",
    "\n",
    "Magic methods, also known as “dunders” from the double underscores surrounding their names, are powerful tools that allow you to customize the behaviour of your classes. They are used to implement special methods such as the addition, subtraction and comparison operators, as well as some more advanced techniques like descriptors and properties.\n",
    "\n",
    "Let’s take a look at some of the most commonly used magic methods in Python.\n",
    "\n",
    "__init__ method\n",
    "The init method is a special method that is automatically invoked when you create a new instance of a class. This method is responsible for setting up the object’s initial state, and it is where you would typically define any instance variables that you need. Also called \"constructor\", we have discussed this method already\n",
    "\n",
    "__str__ and __repr__ methods\n",
    "The str and repr methods are both used to convert an object to a string representation. The str method is used when you want to print out an object, while the repr method is used when you want to get a string representation of an object that can be used to recreate the object.\n",
    "\n",
    "__len__ method\n",
    "The len method is used to get the length of an object. This is useful when you want to be able to find the size of a data structure, such as a list or dictionary.\n",
    "\n",
    "__call__ method\n",
    "The call method is used to make an object callable, meaning that you can pass it as a parameter to a function and it will be executed when the function is called. This is an incredibly powerful tool that allows you to create objects that behave like functions.\n",
    "\n",
    "These are just a few of the many magic methods available in Python. They are incredibly powerful tools that allow you to customize the behaviour of your objects, and can make your code much cleaner and easier to understand. So if you’re looking for a way to take your Python code to the next level, take some time to learn about these magic methods."
   ]
  },
  {
   "cell_type": "code",
   "execution_count": 34,
   "metadata": {},
   "outputs": [
    {
     "name": "stdout",
     "output_type": "stream",
     "text": [
      "akshat\n",
      "6\n",
      "hello myself akshat\n"
     ]
    }
   ],
   "source": [
    "class magic_methods:\n",
    "    def __init__(self, name):\n",
    "        self.name = name\n",
    "\n",
    "    def __len__(self):\n",
    "        i = 0\n",
    "        for c in self.name:\n",
    "            i = i + 1\n",
    "        return i\n",
    "    \n",
    "    def __str__(self):\n",
    "        return f'hello myself {self.name}'\n",
    "\n",
    "x = magic_methods('akshat')\n",
    "print(x.name)  # This prints the 'name' attribute of the 'x' object.\n",
    "print(len(x))  # This calls the '__len__' method and prints the length of the 'name' attribute.\n",
    "print(str(x))"
   ]
  },
  {
   "cell_type": "markdown",
   "metadata": {},
   "source": [
    "# Method Overriding in Python\n",
    "Method overriding is a powerful feature in object-oriented programming that allows you to redefine a method in a derived class. The method in the derived class is said to override the method in the base class. When you create an instance of the derived class and call the overridden method, the version of the method in the derived class is executed, rather than the version in the base class.\n",
    "\n",
    "In Python, method overriding is a way to customize the behavior of a class based on its specific needs. For example, consider the following base class:\n",
    "In Python, method overriding is a way to customize the behavior of a class based on its specific needs. For example, consider the following base class:\n",
    "\n",
    "class Shape:\n",
    "    def area(self):\n",
    "        pass\n",
    "\n",
    "\n",
    "In this base class, the area method is defined, but does not have any implementation. If you want to create a derived class that represents a circle, you can override the area method and provide an implementation that calculates the area of a circle:\n",
    "\n",
    "class Circle(Shape):\n",
    "    def __init__(self, radius):\n",
    "        self.radius = radius\n",
    "    def area(self):\n",
    "        return 3.14 * self.radius * self.radius\n",
    "\n",
    "\n",
    "In this example, the Circle class inherits from the Shape class, and overrides the area method. The new implementation of the area method calculates the area of a circle, based on its radius.\n",
    "\n",
    "It's important to note that when you override a method, the new implementation must have the same method signature as the original method. This means that the number and type of arguments, as well as the return type, must be the same.\n",
    "\n",
    "Another way to customize the behavior of a class is to call the base class method from the derived class method. To do this, you can use the super function. The super function allows you to call the base class method from the derived class method, and can be useful when you want to extend the behavior of the base class method, rather than replace it.\n",
    "\n",
    "For example, consider the following base class:\n",
    "\n",
    "class Shape:\n",
    "    def area(self):\n",
    "        print(\"Calculating area...\")\n",
    "\n",
    "\n",
    "In this base class, the area method prints a message indicating that the area is being calculated. If you want to create a derived class that represents a circle, and you also want to print a message indicating the type of shape, you can use the super function to call the base class method, and add your own message:\n",
    "\n",
    "class Circle(Shape):\n",
    "    def __init__(self, radius):\n",
    "        self.radius = radius\n",
    "    def area(self):\n",
    "        print(\"Calculating area of a circle...\")\n",
    "        super().area()\n",
    "        return 3.14 * self.radius * self.radius\n",
    "\n",
    "\n",
    "In this example, the Circle class overrides the area method, and calls the base class method using the super function. This allows you to extend the behavior of the base class method, while still maintaining its original behavior."
   ]
  },
  {
   "cell_type": "code",
   "execution_count": 5,
   "metadata": {},
   "outputs": [
    {
     "data": {
      "text/plain": [
       "78.5"
      ]
     },
     "execution_count": 5,
     "metadata": {},
     "output_type": "execute_result"
    }
   ],
   "source": [
    "class shape:\n",
    "    def __init__(self, x, y):\n",
    "        self.x = x\n",
    "        self.y = y\n",
    "\n",
    "    def area(self):\n",
    "        return self.x * self.y\n",
    "\n",
    "\n",
    "class child(shape):\n",
    "    def __init__(self, radius):\n",
    "        self.radius = radius\n",
    "        super().__init__(radius, radius)\n",
    "\n",
    "    def area(self):\n",
    "        return 3.14*super().area()\n",
    "\n",
    "\n",
    "a = child(5)\n",
    "a.area()\n"
   ]
  },
  {
   "cell_type": "code",
   "execution_count": 12,
   "metadata": {},
   "outputs": [
    {
     "name": "stdout",
     "output_type": "stream",
     "text": [
      "Mean of the numbers: 7.0\n"
     ]
    }
   ],
   "source": [
    "class Stat:\n",
    "    def __init__(self, a, b, c, d):\n",
    "        self.a = a\n",
    "        self.b = b\n",
    "        self.c = c\n",
    "        self.d = d\n",
    "\n",
    "    def calculate_mean(self):\n",
    "        return (self.a + self.b + self.c + self.d) / 4\n",
    "\n",
    "class StatOverride(Stat):\n",
    "    def __init__(self, a, b, c, d):\n",
    "        super().__init__(a, b, c, d)\n",
    "\n",
    "    def calculate_mean(self):\n",
    "        # Override the method to calculate mean in a different way if needed\n",
    "        return super().calculate_mean()  # Call the parent class method\n",
    "\n",
    "# Example usage:\n",
    "# Create an instance of the StatOverride class with 4 numbers\n",
    "numbers = StatOverride(4, 7, 12, 5)\n",
    "\n",
    "# Call the overridden method to calculate the mean and print the result\n",
    "mean_value = numbers.calculate_mean()\n",
    "print(\"Mean of the numbers:\", mean_value)  # Output: Mean of the numbers: 7.0\n"
   ]
  },
  {
   "cell_type": "markdown",
   "metadata": {},
   "source": [
    "# Operator Overloading in Python: An Introduction\n",
    "Operator Overloading is a feature in Python that allows developers to redefine the behavior of mathematical and comparison operators for custom data types. This means that you can use the standard mathematical operators (+, -, *, /, etc.) and comparison operators (>, <, ==, etc.) in your own classes, just as you would for built-in data types like int, float, and str.\n",
    "\n",
    "Why do we need operator overloading?\n",
    "Operator overloading allows you to create more readable and intuitive code. For instance, consider a custom class that represents a point in 2D space. You could define a method called 'add' to add two points together, but using the + operator makes the code more concise and readable:\n",
    "\n",
    "p1 = Point(1, 2)\n",
    "p2 = Point(3, 4)\n",
    "p3 = p1 + p2\n",
    "print(p3.x, p3.y) # prints 4, 6\n",
    "\n",
    "\n",
    "How to overload an operator in Python?\n",
    "You can overload an operator in Python by defining special methods in your class. These methods are identified by their names, which start and end with double underscores (__). Here are some of the most commonly overloaded operators and their corresponding special methods:\n",
    "\n",
    "+ : __add__\n",
    "- : __sub__\n",
    "* : __mul__\n",
    "/ : __truediv__\n",
    "< : __lt__\n",
    "> : __gt__\n",
    "== : __eq__\n",
    "\n",
    "\n",
    "For example, if you want to overload the + operator to add two instances of a custom class, you would define the add method:\n",
    "\n",
    "class Point:\n",
    "    def __init__(self, x, y):\n",
    "        self.x = x\n",
    "        self.y = y\n",
    "    def __add__(self, other):\n",
    "        return Point(self.x + other.x, self.y + other.y)\n",
    "\n",
    "\n",
    "It's important to note that operator overloading is not limited to the built-in operators, you can overload any user-defined operator as well."
   ]
  },
  {
   "cell_type": "code",
   "execution_count": 23,
   "metadata": {},
   "outputs": [
    {
     "name": "stdout",
     "output_type": "stream",
     "text": [
      "3i + 4j + 5k\n",
      "2i + 2j + 2k\n",
      "5i + 6j + 7k\n"
     ]
    }
   ],
   "source": [
    "class vector:\n",
    "    def __init__(self, i, j, k):\n",
    "        self.i = i\n",
    "        self.j = j\n",
    "        self.k = k\n",
    "\n",
    "    def __str__(self):\n",
    "        return f'{self.i}i + {self.j}j + {self.k}k'\n",
    "    \n",
    "    def __add__(self,x):\n",
    "        return vector (self.i+x.i,self.j+x.j,self.k+x.k)\n",
    "\n",
    "\n",
    "d1 = vector(3, 4, 5)\n",
    "print(d1)\n",
    "d2 = vector(2, 2, 2)\n",
    "print(d2)\n",
    "print(d1+d2)\n"
   ]
  },
  {
   "cell_type": "markdown",
   "metadata": {},
   "source": [
    "# The below code is a Python program that defines two classes: animal and cat. The animal class has three attributes: name, species, and color. It also has a method called info(), which returns a string containing the animal's name.\n",
    "\n",
    "The cat class inherits from the animal class. This means that it inherits all of the attributes and methods of the animal class. The cat class also has its own attribute, breed, and its own method, sound(), which returns the sound that a cat makes.\n",
    "\n",
    "The code then creates two instances of the cat class: a and a2. The a instance is assigned the name \"synthia\" and the breed \"persian\". The a2 instance is assigned the name \"softy\" and the species \"red\" (the color attribute is also set to \"red\", but this is not necessary since the animal class constructor will already set it to \"black\" by default).\n",
    "\n",
    "The code then calls the sound() method on the a instance and prints the result. The sound() method returns the string \"meow\", so the code prints the following output:\n",
    "\n",
    "meow\n",
    "Next, the code calls the info() method on the a2 instance. The info() method returns a string containing the animal's name, so the code prints the following output:\n",
    "\n",
    "this is details of cat name softy\n",
    "The methods used in the above code are:\n",
    "\n",
    "__init__(): This is a special method that is called when a new instance of a class is created. It is used to initialize the class's attributes.\n",
    "info(): This method returns a string containing the animal's name.\n",
    "sound(): This method returns the sound that a cat makes."
   ]
  },
  {
   "cell_type": "code",
   "execution_count": 30,
   "metadata": {},
   "outputs": [
    {
     "name": "stdout",
     "output_type": "stream",
     "text": [
      "meow\n"
     ]
    },
    {
     "data": {
      "text/plain": [
       "'this is details of cat name softy'"
      ]
     },
     "execution_count": 30,
     "metadata": {},
     "output_type": "execute_result"
    }
   ],
   "source": [
    "class animal:\n",
    "    def __init__(self,name,species,color):\n",
    "        self.name = name\n",
    "        self.species = species\n",
    "        self.color = color\n",
    "    def info(self):\n",
    "        return f'this is details of cat name {self.name}'\n",
    "\n",
    "class cat(animal):\n",
    "    def __init__(self,name,breed):\n",
    "        animal.__init__(self,name,species='cat',color='black')\n",
    "        self.breed = breed\n",
    "    def sound(self):\n",
    "        return 'meow'\n",
    "\n",
    "\n",
    "a = cat('synthia','persian')\n",
    "A = a.sound()\n",
    "print(A)\n",
    "a2 = animal('softy', 'red','red')\n",
    "a2.info()\n",
    "\n"
   ]
  },
  {
   "cell_type": "code",
   "execution_count": 20,
   "metadata": {},
   "outputs": [
    {
     "name": "stdout",
     "output_type": "stream",
     "text": [
      "The person name is ak\n",
      "akshat, 12, engineer\n",
      "Student copied employee details\n"
     ]
    }
   ],
   "source": [
    "class employee:\n",
    "    def __init__(self, name, id, no):\n",
    "        self.n = name\n",
    "        self.id = id\n",
    "        self.no = no\n",
    "    \n",
    "    def info(self):\n",
    "        return f'The person name is {self.n}'\n",
    "\n",
    "class student(employee):\n",
    "    def __init__(self, name, id, no, passion):\n",
    "        super().__init__(name, id, no)  # Use super() to call the base class constructor\n",
    "        self.passion = passion\n",
    "    \n",
    "    def re(self):\n",
    "        print(f'{self.n}, {self.id}, {self.passion}')  # Use self.n instead of self.name\n",
    "        return 'Student copied employee details'\n",
    "\n",
    "a = employee('ak', 5, 45588)\n",
    "A = a.info()\n",
    "print(A)\n",
    "\n",
    "b = student('akshat', 12, 8889281830, 'engineer')\n",
    "B = b.re()\n",
    "print(B)\n"
   ]
  },
  {
   "cell_type": "markdown",
   "metadata": {},
   "source": [
    "# use of time module"
   ]
  },
  {
   "cell_type": "code",
   "execution_count": 10,
   "metadata": {},
   "outputs": [
    {
     "name": "stdout",
     "output_type": "stream",
     "text": [
      "1\n",
      "2\n",
      "3\n",
      "4\n",
      "5\n",
      "6\n",
      "7\n",
      "8\n",
      "9\n",
      "10\n",
      "11\n",
      "12\n",
      "13\n",
      "14\n",
      "15\n",
      "16\n",
      "17\n",
      "18\n",
      "19\n",
      "20\n",
      "21\n",
      "22\n",
      "23\n",
      "24\n",
      "25\n",
      "26\n",
      "27\n",
      "28\n",
      "29\n",
      "30\n",
      "31\n",
      "32\n",
      "33\n",
      "34\n",
      "35\n",
      "36\n",
      "37\n",
      "38\n",
      "39\n",
      "40\n",
      "41\n",
      "42\n",
      "43\n",
      "44\n",
      "45\n",
      "46\n",
      "47\n",
      "48\n",
      "49\n",
      "50\n",
      "51\n",
      "1\n",
      "2\n",
      "3\n",
      "4\n",
      "5\n",
      "6\n",
      "7\n",
      "8\n",
      "9\n",
      "10\n",
      "11\n",
      "12\n",
      "13\n",
      "14\n",
      "15\n",
      "16\n",
      "17\n",
      "18\n",
      "19\n",
      "20\n",
      "21\n",
      "22\n",
      "23\n",
      "24\n",
      "25\n",
      "26\n",
      "27\n",
      "28\n",
      "29\n",
      "30\n",
      "31\n",
      "32\n",
      "33\n",
      "34\n",
      "35\n",
      "36\n",
      "37\n",
      "38\n",
      "39\n",
      "40\n",
      "41\n",
      "42\n",
      "43\n",
      "44\n",
      "45\n",
      "46\n",
      "47\n",
      "48\n",
      "49\n",
      "50\n",
      "51\n",
      "0.0\n",
      "0\n",
      "1\n",
      "2\n",
      "3\n",
      "4\n",
      "5\n",
      "6\n",
      "7\n",
      "8\n",
      "9\n",
      "10\n",
      "11\n",
      "12\n",
      "13\n",
      "14\n",
      "15\n",
      "16\n",
      "17\n",
      "18\n",
      "19\n",
      "20\n",
      "21\n",
      "22\n",
      "23\n",
      "24\n",
      "25\n",
      "26\n",
      "27\n",
      "28\n",
      "29\n",
      "30\n",
      "31\n",
      "32\n",
      "33\n",
      "34\n",
      "35\n",
      "36\n",
      "37\n",
      "38\n",
      "39\n",
      "40\n",
      "41\n",
      "42\n",
      "43\n",
      "44\n",
      "45\n",
      "46\n",
      "47\n",
      "48\n",
      "49\n",
      "0.0010063648223876953\n",
      "4\n",
      "hello this is time module\n",
      "2023-11-14 19:52:52\n"
     ]
    }
   ],
   "source": [
    "#84\n",
    "import time\n",
    "\n",
    "def using():\n",
    "    i = 0\n",
    "    while i<=50:\n",
    "        i = i+1\n",
    "        print(i)\n",
    "using()\n",
    "\n",
    "\n",
    "def using2():\n",
    "    for i in range(0,50):\n",
    "        print(i)\n",
    "\n",
    "\n",
    "init = time.time()\n",
    "using()\n",
    "print(time.time()-init)\n",
    "\n",
    "init = time.time()\n",
    "using2()\n",
    "print(time.time()-init)\n",
    "\n",
    "\n",
    "\n",
    "\n",
    "#--------------------------\n",
    "'''this will put the statement for sleep for 3 seconds and then print the statement.'''\n",
    "print(4)\n",
    "time.sleep(3)\n",
    "print('hello this is time module')\n",
    "\n",
    "\n",
    "#-------------------------\n",
    "import time\n",
    "\n",
    "t = time.localtime()\n",
    "formattedstr = time.strftime('%Y-%m-%d %H:%M:%S', t)\n",
    "print(formattedstr)\n"
   ]
  },
  {
   "cell_type": "markdown",
   "metadata": {},
   "source": [
    "#86"
   ]
  },
  {
   "cell_type": "code",
   "execution_count": 23,
   "metadata": {},
   "outputs": [
    {
     "name": "stdout",
     "output_type": "stream",
     "text": [
      "False\n",
      "6\n",
      "6\n",
      "5\n",
      "4\n",
      "3\n",
      "2\n",
      "1\n"
     ]
    }
   ],
   "source": [
    "'''by the help of walrus operator we can make any condition true in our favour'''\n",
    "a = True\n",
    "print(a := False)\n",
    "\n",
    "\n",
    "#-----------------\n",
    "lst = [1,2,3,4,5,6,6]\n",
    "while (n := len(lst)) > 0:\n",
    "    print(lst.pop())\n",
    "\n",
    "\n"
   ]
  },
  {
   "cell_type": "markdown",
   "metadata": {},
   "source": []
  },
  {
   "cell_type": "code",
   "execution_count": 24,
   "metadata": {},
   "outputs": [],
   "source": [
    "'''program before using walrus operator.'''\n",
    "foods = list()\n",
    "while True:\n",
    "    food = input('enter the food name :')\n",
    "    if food == 'quit':\n",
    "        break\n",
    "    foods.append(food)"
   ]
  },
  {
   "cell_type": "code",
   "execution_count": 25,
   "metadata": {},
   "outputs": [],
   "source": [
    "'''program after using walrus operator.'''\n",
    "food_lst = list()\n",
    "while (food_a := input('enter fruit name = ')) != 'quit':\n",
    "    food_lst.append(food_a)"
   ]
  },
  {
   "cell_type": "markdown",
   "metadata": {},
   "source": []
  },
  {
   "cell_type": "code",
   "execution_count": null,
   "metadata": {},
   "outputs": [],
   "source": [
    "#87\n",
    "import shutil as shoot\n",
    "\n",
    "shoot.copy('1.py','12.py')\n",
    "shoot.copytree('TUTU34','2TUTORIAL')\n",
    "shoot.copyfile('TUTU34/420.PY','420.py')"
   ]
  },
  {
   "cell_type": "code",
   "execution_count": 35,
   "metadata": {},
   "outputs": [
    {
     "data": {
      "text/plain": [
       "'420.py'"
      ]
     },
     "execution_count": 35,
     "metadata": {},
     "output_type": "execute_result"
    }
   ],
   "source": [
    "shoot.copyfile('TUTU34/420.PY','420.py')"
   ]
  },
  {
   "cell_type": "markdown",
   "metadata": {},
   "source": [
    "89"
   ]
  },
  {
   "cell_type": "code",
   "execution_count": null,
   "metadata": {},
   "outputs": [],
   "source": [
    "#89\n",
    "import requests\n",
    "response = requests.get('https://bard.google.com/chat/e4107f75077306da')\n",
    "print(response.text)"
   ]
  },
  {
   "cell_type": "markdown",
   "metadata": {},
   "source": [
    "#91"
   ]
  },
  {
   "cell_type": "code",
   "execution_count": 11,
   "metadata": {},
   "outputs": [
    {
     "name": "stdout",
     "output_type": "stream",
     "text": [
      "1\n",
      "2\n",
      "3\n",
      "4\n",
      "5\n",
      "6\n",
      "7\n",
      "8\n",
      "9\n",
      "10\n"
     ]
    }
   ],
   "source": [
    "def my_genreator():\n",
    "    for i in range(0,10):\n",
    "        yield i + 1\n",
    "\n",
    "gen = my_genreator()\n",
    "print(next(gen))\n",
    "print(next(gen))\n",
    "print(next(gen))\n",
    "\n",
    "for j in gen:\n",
    "    print(j)"
   ]
  },
  {
   "cell_type": "markdown",
   "metadata": {},
   "source": [
    "#92"
   ]
  },
  {
   "cell_type": "code",
   "execution_count": 13,
   "metadata": {},
   "outputs": [
    {
     "name": "stdout",
     "output_type": "stream",
     "text": [
      "10\n",
      "done for sum 5\n",
      "15\n",
      "done for sum 10\n",
      "20\n",
      "done for sum 15\n",
      "10\n",
      "done for sum 5\n",
      "15\n",
      "done for sum 10\n",
      "20\n",
      "done for sum 15\n"
     ]
    }
   ],
   "source": [
    "from functools import lru_cache\n",
    "import time\n",
    "\n",
    "@lru_cache(maxsize=None)\n",
    "def sum(n):\n",
    "    time.sleep(5)\n",
    "    return n+5\n",
    "\n",
    "\n",
    "print(sum(5))\n",
    "print('done for sum 5')\n",
    "print(sum(10))\n",
    "print('done for sum 10')\n",
    "print(sum(15))\n",
    "print('done for sum 15')\n",
    "\n",
    "\n",
    "\n",
    "print(sum(5))\n",
    "print('done for sum 5')\n",
    "print(sum(10))\n",
    "print('done for sum 10')\n",
    "print(sum(15))\n",
    "print('done for sum 15')"
   ]
  },
  {
   "cell_type": "code",
   "execution_count": 16,
   "metadata": {},
   "outputs": [
    {
     "name": "stdout",
     "output_type": "stream",
     "text": [
      "<re.Match object; span=(31, 34), match='the'>\n",
      "(31, 34)\n",
      "the\n",
      "(88, 91)\n",
      "the\n",
      "(103, 106)\n",
      "the\n",
      "(237, 240)\n",
      "the\n"
     ]
    }
   ],
   "source": [
    "import re as regular\n",
    "\n",
    "pattern = 'the'\n",
    "text = '''The quick brown fox jumps over the lazy dog. \n",
    "        This famous sentence contains all the letters of the alphabet. \n",
    "        It has been used for ages as an example of a pangram. Pangrams are sentences \n",
    "        that use every letter of the alphabet at least once.'''\n",
    "\n",
    "match = regular.search(pattern,text)\n",
    "print(match)\n",
    "\n",
    "matches = regular.finditer(pattern,text)\n",
    "for matches in matches:\n",
    "    print(matches.span())\n",
    "    print(text[matches.span()[0]:matches.span()[1]])\n"
   ]
  },
  {
   "cell_type": "code",
   "execution_count": 18,
   "metadata": {},
   "outputs": [],
   "source": [
    "import time\n",
    "import asyncio\n",
    "import requests \n",
    "\n",
    "async def function1():\n",
    "    await asyncio.sleep(5)\n",
    "    print('func1')\n",
    "\n",
    "async def function2():\n",
    "    await asyncio.sleep(5)\n",
    "    print('func2')\n",
    "\n",
    "async def function3():\n",
    "    await asyncio.sleep(5)\n",
    "    print('func3')\n",
    "\n",
    "async def main():\n",
    "    l = await asyncio.gather(\n",
    "        function1(),\n",
    "        function2(),\n",
    "        function3(),\n",
    "    )print(l)"
   ]
  }
 ],
 "metadata": {
  "kernelspec": {
   "display_name": "Python 3",
   "language": "python",
   "name": "python3"
  },
  "language_info": {
   "codemirror_mode": {
    "name": "ipython",
    "version": 3
   },
   "file_extension": ".py",
   "mimetype": "text/x-python",
   "name": "python",
   "nbconvert_exporter": "python",
   "pygments_lexer": "ipython3",
   "version": "3.10.8"
  },
  "orig_nbformat": 4
 },
 "nbformat": 4,
 "nbformat_minor": 2
}
